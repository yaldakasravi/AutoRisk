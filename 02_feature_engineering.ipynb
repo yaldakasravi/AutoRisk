{
 "cells": [
  {
   "cell_type": "markdown",
   "id": "3c71c15a",
   "metadata": {},
   "source": [
    "# 🔧 Feature Engineering\n",
    "Preparing and transforming features for modeling."
   ]
  },
  {
   "cell_type": "code",
   "execution_count": null,
   "id": "f8374a1e",
   "metadata": {},
   "outputs": [],
   "source": [
    "import pandas as pd\n",
    "from sklearn.preprocessing import OneHotEncoder, StandardScaler"
   ]
  },
  {
   "cell_type": "code",
   "execution_count": null,
   "id": "8a79e445",
   "metadata": {},
   "outputs": [],
   "source": [
    "df = pd.read_csv('../data/auto_pricing_simulated.csv')"
   ]
  },
  {
   "cell_type": "code",
   "execution_count": null,
   "id": "8e5c5dc0",
   "metadata": {},
   "outputs": [],
   "source": [
    "df['vehicle_type'] = df['vehicle_type'].astype('category')\n",
    "df['location_risk_score'] = df['location_risk_score'].astype(float)"
   ]
  },
  {
   "cell_type": "code",
   "execution_count": null,
   "id": "0bf9ac8e",
   "metadata": {},
   "outputs": [],
   "source": [
    "categorical_features = ['vehicle_type']\n",
    "ohe = OneHotEncoder(sparse=False, drop='first')\n",
    "ohe_df = pd.DataFrame(ohe.fit_transform(df[categorical_features]), columns=ohe.get_feature_names_out())"
   ]
  },
  {
   "cell_type": "code",
   "execution_count": null,
   "id": "505d35d1",
   "metadata": {},
   "outputs": [],
   "source": [
    "df = pd.concat([df.drop(columns=categorical_features), ohe_df], axis=1)"
   ]
  },
  {
   "cell_type": "code",
   "execution_count": null,
   "id": "8d5b38a4",
   "metadata": {},
   "outputs": [],
   "source": [
    "df.to_csv('../data/auto_pricing_processed.csv', index=False)"
   ]
  }
 ],
 "metadata": {},
 "nbformat": 4,
 "nbformat_minor": 5
}