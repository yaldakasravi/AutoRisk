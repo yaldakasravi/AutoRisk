{
 "cells": [
  {
   "cell_type": "markdown",
   "id": "910131ed",
   "metadata": {},
   "source": [
    "# 🤖 Modeling\n",
    "Train ML models to predict insurance claim cost."
   ]
  },
  {
   "cell_type": "code",
   "execution_count": null,
   "id": "2f882ecc",
   "metadata": {},
   "outputs": [],
   "source": [
    "import pandas as pd\n",
    "from sklearn.model_selection import train_test_split\n",
    "from sklearn.ensemble import GradientBoostingRegressor\n",
    "from sklearn.metrics import mean_absolute_error, mean_squared_error"
   ]
  },
  {
   "cell_type": "code",
   "execution_count": null,
   "id": "64ad5586",
   "metadata": {},
   "outputs": [],
   "source": [
    "df = pd.read_csv('../data/auto_pricing_processed.csv')"
   ]
  },
  {
   "cell_type": "code",
   "execution_count": null,
   "id": "597cf1f0",
   "metadata": {},
   "outputs": [],
   "source": [
    "X = df.drop(columns=['policy_id', 'claim_cost'])\n",
    "y = df['claim_cost']\n",
    "X_train, X_test, y_train, y_test = train_test_split(X, y, test_size=0.2, random_state=42)"
   ]
  },
  {
   "cell_type": "code",
   "execution_count": null,
   "id": "a3446aea",
   "metadata": {},
   "outputs": [],
   "source": [
    "model = GradientBoostingRegressor(n_estimators=100, learning_rate=0.1)\n",
    "model.fit(X_train, y_train)"
   ]
  },
  {
   "cell_type": "code",
   "execution_count": null,
   "id": "03ab9a59",
   "metadata": {},
   "outputs": [],
   "source": [
    "y_pred = model.predict(X_test)\n",
    "mae = mean_absolute_error(y_test, y_pred)\n",
    "mse = mean_squared_error(y_test, y_pred)\n",
    "print(f'MAE: {mae:.2f}, MSE: {mse:.2f}')"
   ]
  },
  {
   "cell_type": "code",
   "execution_count": null,
   "id": "4b0997f8",
   "metadata": {},
   "outputs": [],
   "source": [
    "import matplotlib.pyplot as plt\n",
    "plt.scatter(y_test, y_pred, alpha=0.3)\n",
    "plt.xlabel('Actual Claim Cost')\n",
    "plt.ylabel('Predicted Claim Cost')\n",
    "plt.title('Prediction vs Actual')\n",
    "plt.show()"
   ]
  }
 ],
 "metadata": {},
 "nbformat": 4,
 "nbformat_minor": 5
}
