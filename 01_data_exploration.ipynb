{
 "cells": [
  {
   "cell_type": "markdown",
   "id": "f90ebee5",
   "metadata": {},
   "source": [
    "# 📊 Data Exploration\n",
    "Initial exploration of the auto insurance pricing dataset."
   ]
  },
  {
   "cell_type": "code",
   "execution_count": null,
   "id": "43d0cef9",
   "metadata": {},
   "outputs": [],
   "source": [
    "import pandas as pd\n",
    "import seaborn as sns\n",
    "import matplotlib.pyplot as plt"
   ]
  },
  {
   "cell_type": "code",
   "execution_count": null,
   "id": "967d7e6c",
   "metadata": {},
   "outputs": [],
   "source": [
    "df = pd.read_csv('../data/auto_pricing_simulated.csv')\n",
    "df.head()"
   ]
  },
  {
   "cell_type": "code",
   "execution_count": null,
   "id": "6c17717e",
   "metadata": {},
   "outputs": [],
   "source": [
    "df.info()"
   ]
  },
  {
   "cell_type": "code",
   "execution_count": null,
   "id": "131cfe9c",
   "metadata": {},
   "outputs": [],
   "source": [
    "df.describe()"
   ]
  },
  {
   "cell_type": "code",
   "execution_count": null,
   "id": "5fb1f795",
   "metadata": {},
   "outputs": [],
   "source": [
    "sns.histplot(df['claim_cost'], bins=50, kde=True)\n",
    "plt.title('Claim Cost Distribution')\n",
    "plt.show()"
   ]
  },
  {
   "cell_type": "code",
   "execution_count": null,
   "id": "c5949505",
   "metadata": {},
   "outputs": [],
   "source": [
    "sns.boxplot(data=df[['driver_age', 'vehicle_age', 'claim_cost']])\n",
    "plt.title('Boxplots of Numerical Features')\n",
    "plt.show()"
   ]
  }
 ],
 "metadata": {},
 "nbformat": 4,
 "nbformat_minor": 5
}